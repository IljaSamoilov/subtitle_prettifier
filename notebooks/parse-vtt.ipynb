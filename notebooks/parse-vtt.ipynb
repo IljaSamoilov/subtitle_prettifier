{
 "cells": [
  {
   "cell_type": "markdown",
   "metadata": {
    "collapsed": true,
    "pycharm": {
     "name": "#%% md\n"
    }
   },
   "source": [
    "This notebook is for parsing vtt subtitles"
   ]
  },
  {
   "cell_type": "code",
   "execution_count": null,
   "metadata": {
    "pycharm": {
     "name": "#%%\n"
    }
   },
   "outputs": [],
   "source": [
    "! pip3 install webvtt-py"
   ]
  },
  {
   "cell_type": "code",
   "execution_count": 2,
   "metadata": {
    "pycharm": {
     "name": "#%%\n"
    }
   },
   "outputs": [
    {
     "name": "stdout",
     "output_type": "stream",
     "text": [
      "3.8.2 (default, May 12 2020, 14:25:05) \n",
      "[Clang 11.0.3 (clang-1103.0.32.59)]\n",
      "['/Users/iljasamoilov/PycharmProjects/subtitles/notebooks', '/Users/iljasamoilov/PycharmProjects/subtitles', '/Users/iljasamoilov/.pyenv/versions/3.8.2/lib/python38.zip', '/Users/iljasamoilov/.pyenv/versions/3.8.2/lib/python3.8', '/Users/iljasamoilov/.pyenv/versions/3.8.2/lib/python3.8/lib-dynload', '', '/Users/iljasamoilov/.pyenv/versions/3.8.2/lib/python3.8/site-packages', '/Users/iljasamoilov/.pyenv/versions/3.8.2/lib/python3.8/site-packages/IPython/extensions', '/Users/iljasamoilov/.ipython']\n"
     ]
    }
   ],
   "source": [
    "import sys\n",
    "\n",
    "print(sys.version)\n",
    "print(sys.path)\n"
   ]
  },
  {
   "cell_type": "code",
   "execution_count": 4,
   "metadata": {
    "pycharm": {
     "name": "#%%\n"
    }
   },
   "outputs": [
    {
     "name": "stdout",
     "output_type": "stream",
     "text": [
      "00:00:14.160\n",
      "00:00:15.760\n",
      "Tere õhtust, head vaatajad.\n"
     ]
    }
   ],
   "source": [
    "import webvtt\n",
    "\n",
    "for caption in webvtt.read('../data/foorum-4-aasta-eelarvestrateegia.vtt'):\n",
    "    print(caption.start)\n",
    "    print(caption.end)\n",
    "    print(caption.text)\n",
    "    break"
   ]
  },
  {
   "cell_type": "code",
   "execution_count": null,
   "outputs": [],
   "source": [],
   "metadata": {
    "collapsed": false,
    "pycharm": {
     "name": "#%%\n"
    }
   }
  },
  {
   "cell_type": "code",
   "execution_count": null,
   "metadata": {},
   "outputs": [],
   "source": []
  }
 ],
 "metadata": {
  "kernelspec": {
   "display_name": "Python 3",
   "language": "python",
   "name": "python3"
  },
  "language_info": {
   "codemirror_mode": {
    "name": "ipython",
    "version": 3
   },
   "file_extension": ".py",
   "mimetype": "text/x-python",
   "name": "python",
   "nbconvert_exporter": "python",
   "pygments_lexer": "ipython3",
   "version": "3.8.2"
  }
 },
 "nbformat": 4,
 "nbformat_minor": 1
}